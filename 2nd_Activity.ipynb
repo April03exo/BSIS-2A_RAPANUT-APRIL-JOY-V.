{
  "nbformat": 4,
  "nbformat_minor": 0,
  "metadata": {
    "colab": {
      "provenance": [],
      "authorship_tag": "ABX9TyPkt0WL5OqtRIu4rbU7/+xX",
      "include_colab_link": true
    },
    "kernelspec": {
      "name": "python3",
      "display_name": "Python 3"
    },
    "language_info": {
      "name": "python"
    }
  },
  "cells": [
    {
      "cell_type": "markdown",
      "metadata": {
        "id": "view-in-github",
        "colab_type": "text"
      },
      "source": [
        "<a href=\"https://colab.research.google.com/github/April03exo/BSIS-2A_RAPANUT-APRIL-JOY-V./blob/main/2nd_Activity.ipynb\" target=\"_parent\"><img src=\"https://colab.research.google.com/assets/colab-badge.svg\" alt=\"Open In Colab\"/></a>"
      ]
    },
    {
      "cell_type": "code",
      "execution_count": null,
      "metadata": {
        "id": "vx5_4BLD-zAF"
      },
      "outputs": [],
      "source": [
        "import pandas as pd\n",
        "import numpy as np"
      ]
    },
    {
      "cell_type": "code",
      "source": [
        "df = pd.read_csv('https://raw.githubusercontent.com/April03exo/BSIS-2A_RAPANUT-APRIL-JOY-V./main/SALARY_DATA.csv')"
      ],
      "metadata": {
        "id": "B7LPwAlm_cym"
      },
      "execution_count": null,
      "outputs": []
    },
    {
      "cell_type": "code",
      "source": [
        "print(df)"
      ],
      "metadata": {
        "colab": {
          "base_uri": "https://localhost:8080/"
        },
        "id": "lKIS2D6z_kf0",
        "outputId": "3b0fa9ad-3286-42ab-ca2f-5a4562650d7f"
      },
      "execution_count": null,
      "outputs": [
        {
          "output_type": "stream",
          "name": "stdout",
          "text": [
            "    EmployeeID     Name  Age Department  Salary\n",
            "0            1    Alice   45         HR   54000\n",
            "1            2      Bob   52         IT   78000\n",
            "2            3  Charlie   37    Finance   66000\n",
            "3            4    David   28  Marketing   72000\n",
            "4            5     Eva    41     Sales    85000\n",
            "5            6    Frank   53         IT   90000\n",
            "6            7    Grace   32    Finance   62000\n",
            "7            8    Henry   25         HR   40000\n",
            "8            9      Ivy   48     Sales    94000\n",
            "9           10     Jack   39  Marketing   70000\n",
            "10          11    Karen   29         IT   65000\n",
            "11          12      Leo   44    Finance   86000\n",
            "12          13     Mona   33         HR   47000\n",
            "13          14     Nina   51     Sales    88000\n",
            "14          15    Oscar   36  Marketing   56000\n"
          ]
        }
      ]
    },
    {
      "cell_type": "code",
      "source": [
        "Salary = df['Salary'].to_numpy()"
      ],
      "metadata": {
        "id": "D5-hm2OC_pmj"
      },
      "execution_count": null,
      "outputs": []
    },
    {
      "cell_type": "code",
      "source": [
        "mean_salary = np.mean(Salary)"
      ],
      "metadata": {
        "id": "gq-PrPnz_xuR"
      },
      "execution_count": null,
      "outputs": []
    },
    {
      "cell_type": "code",
      "source": [
        "print(mean_salary)"
      ],
      "metadata": {
        "colab": {
          "base_uri": "https://localhost:8080/"
        },
        "id": "FYnnQVEt_8xa",
        "outputId": "ded3fafd-e7d1-43ef-c43e-d2fc628748ab"
      },
      "execution_count": null,
      "outputs": [
        {
          "output_type": "stream",
          "name": "stdout",
          "text": [
            "70200.0\n"
          ]
        }
      ]
    },
    {
      "cell_type": "code",
      "source": [
        "median_salary = np.median(Salary)"
      ],
      "metadata": {
        "id": "JCy454zG__4Q"
      },
      "execution_count": null,
      "outputs": []
    },
    {
      "cell_type": "code",
      "source": [
        "print(median_salary)"
      ],
      "metadata": {
        "colab": {
          "base_uri": "https://localhost:8080/"
        },
        "id": "S77-A_wIAFZL",
        "outputId": "ef183e22-f1a8-4e77-b438-7ca141f35a1b"
      },
      "execution_count": null,
      "outputs": [
        {
          "output_type": "stream",
          "name": "stdout",
          "text": [
            "70000.0\n"
          ]
        }
      ]
    },
    {
      "cell_type": "code",
      "source": [
        "std_salary = np.std(Salary)"
      ],
      "metadata": {
        "id": "bEO0yEigAJJ6"
      },
      "execution_count": null,
      "outputs": []
    },
    {
      "cell_type": "code",
      "source": [
        "print(std_salary)"
      ],
      "metadata": {
        "colab": {
          "base_uri": "https://localhost:8080/"
        },
        "id": "1LwMmO9jANsp",
        "outputId": "cd72c564-a445-4856-f856-97cf790db6cf"
      },
      "execution_count": null,
      "outputs": [
        {
          "output_type": "stream",
          "name": "stdout",
          "text": [
            "15988.32907675679\n"
          ]
        }
      ]
    },
    {
      "cell_type": "code",
      "source": [
        "total = np.sum(Salary)"
      ],
      "metadata": {
        "id": "o4DgEX7gAWBH"
      },
      "execution_count": null,
      "outputs": []
    },
    {
      "cell_type": "code",
      "source": [
        "print(total)"
      ],
      "metadata": {
        "colab": {
          "base_uri": "https://localhost:8080/"
        },
        "id": "KKGGWA4_AZgC",
        "outputId": "dd591af1-a96e-41a5-884f-15495444fb44"
      },
      "execution_count": null,
      "outputs": [
        {
          "output_type": "stream",
          "name": "stdout",
          "text": [
            "1053000\n"
          ]
        }
      ]
    }
  ]
}
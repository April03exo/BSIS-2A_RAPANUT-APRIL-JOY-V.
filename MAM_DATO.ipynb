{
  "nbformat": 4,
  "nbformat_minor": 0,
  "metadata": {
    "colab": {
      "provenance": [],
      "authorship_tag": "ABX9TyMjmXOINxc2/PorwEh+Pbn7",
      "include_colab_link": true
    },
    "kernelspec": {
      "name": "python3",
      "display_name": "Python 3"
    },
    "language_info": {
      "name": "python"
    }
  },
  "cells": [
    {
      "cell_type": "markdown",
      "metadata": {
        "id": "view-in-github",
        "colab_type": "text"
      },
      "source": [
        "<a href=\"https://colab.research.google.com/github/April03exo/BSIS-2A_RAPANUT-APRIL-JOY-V./blob/main/MAM_DATO.ipynb\" target=\"_parent\"><img src=\"https://colab.research.google.com/assets/colab-badge.svg\" alt=\"Open In Colab\"/></a>"
      ]
    },
    {
      "cell_type": "code",
      "execution_count": 52,
      "metadata": {
        "id": "0mJv0XaMutEg"
      },
      "outputs": [],
      "source": [
        "import pandas as pd"
      ]
    },
    {
      "cell_type": "code",
      "source": [
        "df = pd.read_csv('https://raw.githubusercontent.com/April03exo/BSIS-2A_RAPANUT-APRIL-JOY-V./refs/heads/main/cars_with_na.csv')"
      ],
      "metadata": {
        "id": "B2xP60OWu3OY"
      },
      "execution_count": 53,
      "outputs": []
    },
    {
      "cell_type": "code",
      "source": [
        "print(df)"
      ],
      "metadata": {
        "colab": {
          "base_uri": "https://localhost:8080/"
        },
        "id": "8X1JN7aTxlGn",
        "outputId": "cfd18f46-47d1-404f-9ea5-06e0b0a58a29"
      },
      "execution_count": 54,
      "outputs": [
        {
          "output_type": "stream",
          "name": "stdout",
          "text": [
            "    Car_Brand     Model    Year    Price\n",
            "0      Toyota   Corolla  2009.0      NaN\n",
            "1       Honda     Civic  2004.0  34542.0\n",
            "2        Ford     Focus  2004.0   6546.0\n",
            "3         BMW  3 Series  2008.0      NaN\n",
            "4   Chevrolet     Cruze  2015.0      NaN\n",
            "..        ...       ...     ...      ...\n",
            "60     Toyota   Corolla  2016.0  27431.0\n",
            "61      Honda     Civic  2004.0  31648.0\n",
            "62       Ford       NaN  2014.0  34108.0\n",
            "63        NaN  3 Series     NaN  10646.0\n",
            "64  Chevrolet     Cruze  2023.0  26550.0\n",
            "\n",
            "[65 rows x 4 columns]\n"
          ]
        }
      ]
    },
    {
      "cell_type": "code",
      "source": [
        "print(df[df.isnull().any(axis=1)])"
      ],
      "metadata": {
        "colab": {
          "base_uri": "https://localhost:8080/"
        },
        "id": "E77hVxk01yIM",
        "outputId": "c209b5e1-fc10-4204-82b7-641c4c36ea92"
      },
      "execution_count": 55,
      "outputs": [
        {
          "output_type": "stream",
          "name": "stdout",
          "text": [
            "    Car_Brand     Model    Year    Price\n",
            "0      Toyota   Corolla  2009.0      NaN\n",
            "3         BMW  3 Series  2008.0      NaN\n",
            "4   Chevrolet     Cruze  2015.0      NaN\n",
            "5      Nissan       NaN  2010.0  44318.0\n",
            "6     Hyundai   Elantra     NaN  37730.0\n",
            "7         NaN       Rio  2005.0  28278.0\n",
            "8         NaN      Golf  2015.0  45228.0\n",
            "9    Mercedes   C-Class  2002.0      NaN\n",
            "14  Chevrolet       NaN  2020.0   5998.0\n",
            "17        Kia       NaN  2015.0  28006.0\n",
            "22       Ford       NaN  2020.0  30625.0\n",
            "28        NaN      Golf  2017.0  41607.0\n",
            "35     Nissan    Altima     NaN  14465.0\n",
            "42        NaN     Focus  2018.0  10070.0\n",
            "49   Mercedes   C-Class  2005.0      NaN\n",
            "50     Toyota   Corolla     NaN   9766.0\n",
            "57        Kia       Rio     NaN   8270.0\n",
            "62       Ford       NaN  2014.0  34108.0\n",
            "63        NaN  3 Series     NaN  10646.0\n"
          ]
        }
      ]
    },
    {
      "cell_type": "code",
      "source": [
        "print(df.isnull().sum())"
      ],
      "metadata": {
        "id": "9W5WCjF3aXXE",
        "outputId": "cb72d2bb-13f3-43a0-8bd5-1f9ce145ca70",
        "colab": {
          "base_uri": "https://localhost:8080/"
        }
      },
      "execution_count": 56,
      "outputs": [
        {
          "output_type": "stream",
          "name": "stdout",
          "text": [
            "Car_Brand    5\n",
            "Model        5\n",
            "Year         5\n",
            "Price        5\n",
            "dtype: int64\n"
          ]
        }
      ]
    },
    {
      "cell_type": "code",
      "source": [
        "df_drop_rows = df.dropna()\n",
        "print(df_drop_rows)"
      ],
      "metadata": {
        "colab": {
          "base_uri": "https://localhost:8080/"
        },
        "id": "0BXjEZzD0XiK",
        "outputId": "52eb4a77-9e94-4e4d-9679-3a67640e07a5"
      },
      "execution_count": 57,
      "outputs": [
        {
          "output_type": "stream",
          "name": "stdout",
          "text": [
            "     Car_Brand     Model    Year    Price\n",
            "1        Honda     Civic  2004.0  34542.0\n",
            "2         Ford     Focus  2004.0   6546.0\n",
            "10      Toyota   Corolla  2012.0  44612.0\n",
            "11       Honda     Civic  2011.0  40605.0\n",
            "12        Ford     Focus  2003.0  46197.0\n",
            "13         BMW  3 Series  2003.0  26814.0\n",
            "15      Nissan    Altima  2015.0  22651.0\n",
            "16     Hyundai   Elantra  2019.0  33010.0\n",
            "18  Volkswagen      Golf  2009.0  18318.0\n",
            "19    Mercedes   C-Class  2009.0   7170.0\n",
            "20      Toyota   Corolla  2007.0  38241.0\n",
            "21       Honda     Civic  2017.0  13245.0\n",
            "23         BMW  3 Series  2006.0  40146.0\n",
            "24   Chevrolet     Cruze  2014.0  43115.0\n",
            "25      Nissan    Altima  2006.0  18953.0\n",
            "26     Hyundai   Elantra  2012.0  22948.0\n",
            "27         Kia       Rio  2011.0  10722.0\n",
            "29    Mercedes   C-Class  2009.0  38675.0\n",
            "30      Toyota   Corolla  2003.0  13146.0\n",
            "31       Honda     Civic  2003.0  17790.0\n",
            "32        Ford     Focus  2007.0  40531.0\n",
            "33         BMW  3 Series  2018.0  12227.0\n",
            "34   Chevrolet     Cruze  2009.0  20499.0\n",
            "36     Hyundai   Elantra  2017.0  25118.0\n",
            "37         Kia       Rio  2008.0   9777.0\n",
            "38  Volkswagen      Golf  2001.0  25704.0\n",
            "39    Mercedes   C-Class  2005.0  48503.0\n",
            "40      Toyota   Corolla  2014.0  45380.0\n",
            "41       Honda     Civic  2002.0  25836.0\n",
            "43         BMW  3 Series  2023.0  24747.0\n",
            "44   Chevrolet     Cruze  2015.0  26215.0\n",
            "45      Nissan    Altima  2005.0  16630.0\n",
            "46     Hyundai   Elantra  2015.0  45101.0\n",
            "47         Kia       Rio  2020.0  30681.0\n",
            "48  Volkswagen      Golf  2022.0   8368.0\n",
            "51       Honda     Civic  2020.0  39468.0\n",
            "52        Ford     Focus  2022.0  19271.0\n",
            "53         BMW  3 Series  2014.0  18209.0\n",
            "54   Chevrolet     Cruze  2010.0  12592.0\n",
            "55      Nissan    Altima  2005.0  15384.0\n",
            "56     Hyundai   Elantra  2001.0  16770.0\n",
            "58  Volkswagen      Golf  2012.0  39828.0\n",
            "59    Mercedes   C-Class  2016.0   6908.0\n",
            "60      Toyota   Corolla  2016.0  27431.0\n",
            "61       Honda     Civic  2004.0  31648.0\n",
            "64   Chevrolet     Cruze  2023.0  26550.0\n"
          ]
        }
      ]
    },
    {
      "cell_type": "code",
      "source": [
        "print(df.isnull().sum())"
      ],
      "metadata": {
        "colab": {
          "base_uri": "https://localhost:8080/"
        },
        "id": "u4dOGvelxyfo",
        "outputId": "1238a377-fd36-45b2-e82e-2075ad51b556"
      },
      "execution_count": 58,
      "outputs": [
        {
          "output_type": "stream",
          "name": "stdout",
          "text": [
            "Car_Brand    5\n",
            "Model        5\n",
            "Year         5\n",
            "Price        5\n",
            "dtype: int64\n"
          ]
        }
      ]
    },
    {
      "cell_type": "code",
      "source": [
        "df.fillna(0, inplace= True)"
      ],
      "metadata": {
        "id": "f8lfXcqHbARW"
      },
      "execution_count": 59,
      "outputs": []
    },
    {
      "cell_type": "code",
      "source": [
        "df.fillna(0)"
      ],
      "metadata": {
        "id": "jF4c9nzRbM3c",
        "outputId": "fc9d2d8e-5273-4351-9ad3-43170350ea6b",
        "colab": {
          "base_uri": "https://localhost:8080/",
          "height": 478
        }
      },
      "execution_count": 60,
      "outputs": [
        {
          "output_type": "execute_result",
          "data": {
            "text/plain": [
              "    Car_Brand     Model    Year    Price\n",
              "0      Toyota   Corolla  2009.0      0.0\n",
              "1       Honda     Civic  2004.0  34542.0\n",
              "2        Ford     Focus  2004.0   6546.0\n",
              "3         BMW  3 Series  2008.0      0.0\n",
              "4   Chevrolet     Cruze  2015.0      0.0\n",
              "..        ...       ...     ...      ...\n",
              "60     Toyota   Corolla  2016.0  27431.0\n",
              "61      Honda     Civic  2004.0  31648.0\n",
              "62       Ford         0  2014.0  34108.0\n",
              "63          0  3 Series     0.0  10646.0\n",
              "64  Chevrolet     Cruze  2023.0  26550.0\n",
              "\n",
              "[65 rows x 4 columns]"
            ],
            "text/html": [
              "\n",
              "  <div id=\"df-31f2bf7b-9cb0-4219-aff3-70131b182963\" class=\"colab-df-container\">\n",
              "    <div>\n",
              "<style scoped>\n",
              "    .dataframe tbody tr th:only-of-type {\n",
              "        vertical-align: middle;\n",
              "    }\n",
              "\n",
              "    .dataframe tbody tr th {\n",
              "        vertical-align: top;\n",
              "    }\n",
              "\n",
              "    .dataframe thead th {\n",
              "        text-align: right;\n",
              "    }\n",
              "</style>\n",
              "<table border=\"1\" class=\"dataframe\">\n",
              "  <thead>\n",
              "    <tr style=\"text-align: right;\">\n",
              "      <th></th>\n",
              "      <th>Car_Brand</th>\n",
              "      <th>Model</th>\n",
              "      <th>Year</th>\n",
              "      <th>Price</th>\n",
              "    </tr>\n",
              "  </thead>\n",
              "  <tbody>\n",
              "    <tr>\n",
              "      <th>0</th>\n",
              "      <td>Toyota</td>\n",
              "      <td>Corolla</td>\n",
              "      <td>2009.0</td>\n",
              "      <td>0.0</td>\n",
              "    </tr>\n",
              "    <tr>\n",
              "      <th>1</th>\n",
              "      <td>Honda</td>\n",
              "      <td>Civic</td>\n",
              "      <td>2004.0</td>\n",
              "      <td>34542.0</td>\n",
              "    </tr>\n",
              "    <tr>\n",
              "      <th>2</th>\n",
              "      <td>Ford</td>\n",
              "      <td>Focus</td>\n",
              "      <td>2004.0</td>\n",
              "      <td>6546.0</td>\n",
              "    </tr>\n",
              "    <tr>\n",
              "      <th>3</th>\n",
              "      <td>BMW</td>\n",
              "      <td>3 Series</td>\n",
              "      <td>2008.0</td>\n",
              "      <td>0.0</td>\n",
              "    </tr>\n",
              "    <tr>\n",
              "      <th>4</th>\n",
              "      <td>Chevrolet</td>\n",
              "      <td>Cruze</td>\n",
              "      <td>2015.0</td>\n",
              "      <td>0.0</td>\n",
              "    </tr>\n",
              "    <tr>\n",
              "      <th>...</th>\n",
              "      <td>...</td>\n",
              "      <td>...</td>\n",
              "      <td>...</td>\n",
              "      <td>...</td>\n",
              "    </tr>\n",
              "    <tr>\n",
              "      <th>60</th>\n",
              "      <td>Toyota</td>\n",
              "      <td>Corolla</td>\n",
              "      <td>2016.0</td>\n",
              "      <td>27431.0</td>\n",
              "    </tr>\n",
              "    <tr>\n",
              "      <th>61</th>\n",
              "      <td>Honda</td>\n",
              "      <td>Civic</td>\n",
              "      <td>2004.0</td>\n",
              "      <td>31648.0</td>\n",
              "    </tr>\n",
              "    <tr>\n",
              "      <th>62</th>\n",
              "      <td>Ford</td>\n",
              "      <td>0</td>\n",
              "      <td>2014.0</td>\n",
              "      <td>34108.0</td>\n",
              "    </tr>\n",
              "    <tr>\n",
              "      <th>63</th>\n",
              "      <td>0</td>\n",
              "      <td>3 Series</td>\n",
              "      <td>0.0</td>\n",
              "      <td>10646.0</td>\n",
              "    </tr>\n",
              "    <tr>\n",
              "      <th>64</th>\n",
              "      <td>Chevrolet</td>\n",
              "      <td>Cruze</td>\n",
              "      <td>2023.0</td>\n",
              "      <td>26550.0</td>\n",
              "    </tr>\n",
              "  </tbody>\n",
              "</table>\n",
              "<p>65 rows × 4 columns</p>\n",
              "</div>\n",
              "    <div class=\"colab-df-buttons\">\n",
              "\n",
              "  <div class=\"colab-df-container\">\n",
              "    <button class=\"colab-df-convert\" onclick=\"convertToInteractive('df-31f2bf7b-9cb0-4219-aff3-70131b182963')\"\n",
              "            title=\"Convert this dataframe to an interactive table.\"\n",
              "            style=\"display:none;\">\n",
              "\n",
              "  <svg xmlns=\"http://www.w3.org/2000/svg\" height=\"24px\" viewBox=\"0 -960 960 960\">\n",
              "    <path d=\"M120-120v-720h720v720H120Zm60-500h600v-160H180v160Zm220 220h160v-160H400v160Zm0 220h160v-160H400v160ZM180-400h160v-160H180v160Zm440 0h160v-160H620v160ZM180-180h160v-160H180v160Zm440 0h160v-160H620v160Z\"/>\n",
              "  </svg>\n",
              "    </button>\n",
              "\n",
              "  <style>\n",
              "    .colab-df-container {\n",
              "      display:flex;\n",
              "      gap: 12px;\n",
              "    }\n",
              "\n",
              "    .colab-df-convert {\n",
              "      background-color: #E8F0FE;\n",
              "      border: none;\n",
              "      border-radius: 50%;\n",
              "      cursor: pointer;\n",
              "      display: none;\n",
              "      fill: #1967D2;\n",
              "      height: 32px;\n",
              "      padding: 0 0 0 0;\n",
              "      width: 32px;\n",
              "    }\n",
              "\n",
              "    .colab-df-convert:hover {\n",
              "      background-color: #E2EBFA;\n",
              "      box-shadow: 0px 1px 2px rgba(60, 64, 67, 0.3), 0px 1px 3px 1px rgba(60, 64, 67, 0.15);\n",
              "      fill: #174EA6;\n",
              "    }\n",
              "\n",
              "    .colab-df-buttons div {\n",
              "      margin-bottom: 4px;\n",
              "    }\n",
              "\n",
              "    [theme=dark] .colab-df-convert {\n",
              "      background-color: #3B4455;\n",
              "      fill: #D2E3FC;\n",
              "    }\n",
              "\n",
              "    [theme=dark] .colab-df-convert:hover {\n",
              "      background-color: #434B5C;\n",
              "      box-shadow: 0px 1px 3px 1px rgba(0, 0, 0, 0.15);\n",
              "      filter: drop-shadow(0px 1px 2px rgba(0, 0, 0, 0.3));\n",
              "      fill: #FFFFFF;\n",
              "    }\n",
              "  </style>\n",
              "\n",
              "    <script>\n",
              "      const buttonEl =\n",
              "        document.querySelector('#df-31f2bf7b-9cb0-4219-aff3-70131b182963 button.colab-df-convert');\n",
              "      buttonEl.style.display =\n",
              "        google.colab.kernel.accessAllowed ? 'block' : 'none';\n",
              "\n",
              "      async function convertToInteractive(key) {\n",
              "        const element = document.querySelector('#df-31f2bf7b-9cb0-4219-aff3-70131b182963');\n",
              "        const dataTable =\n",
              "          await google.colab.kernel.invokeFunction('convertToInteractive',\n",
              "                                                    [key], {});\n",
              "        if (!dataTable) return;\n",
              "\n",
              "        const docLinkHtml = 'Like what you see? Visit the ' +\n",
              "          '<a target=\"_blank\" href=https://colab.research.google.com/notebooks/data_table.ipynb>data table notebook</a>'\n",
              "          + ' to learn more about interactive tables.';\n",
              "        element.innerHTML = '';\n",
              "        dataTable['output_type'] = 'display_data';\n",
              "        await google.colab.output.renderOutput(dataTable, element);\n",
              "        const docLink = document.createElement('div');\n",
              "        docLink.innerHTML = docLinkHtml;\n",
              "        element.appendChild(docLink);\n",
              "      }\n",
              "    </script>\n",
              "  </div>\n",
              "\n",
              "\n",
              "    <div id=\"df-3c5a7465-c275-4ab2-a53d-4d5677eb576c\">\n",
              "      <button class=\"colab-df-quickchart\" onclick=\"quickchart('df-3c5a7465-c275-4ab2-a53d-4d5677eb576c')\"\n",
              "                title=\"Suggest charts\"\n",
              "                style=\"display:none;\">\n",
              "\n",
              "<svg xmlns=\"http://www.w3.org/2000/svg\" height=\"24px\"viewBox=\"0 0 24 24\"\n",
              "     width=\"24px\">\n",
              "    <g>\n",
              "        <path d=\"M19 3H5c-1.1 0-2 .9-2 2v14c0 1.1.9 2 2 2h14c1.1 0 2-.9 2-2V5c0-1.1-.9-2-2-2zM9 17H7v-7h2v7zm4 0h-2V7h2v10zm4 0h-2v-4h2v4z\"/>\n",
              "    </g>\n",
              "</svg>\n",
              "      </button>\n",
              "\n",
              "<style>\n",
              "  .colab-df-quickchart {\n",
              "      --bg-color: #E8F0FE;\n",
              "      --fill-color: #1967D2;\n",
              "      --hover-bg-color: #E2EBFA;\n",
              "      --hover-fill-color: #174EA6;\n",
              "      --disabled-fill-color: #AAA;\n",
              "      --disabled-bg-color: #DDD;\n",
              "  }\n",
              "\n",
              "  [theme=dark] .colab-df-quickchart {\n",
              "      --bg-color: #3B4455;\n",
              "      --fill-color: #D2E3FC;\n",
              "      --hover-bg-color: #434B5C;\n",
              "      --hover-fill-color: #FFFFFF;\n",
              "      --disabled-bg-color: #3B4455;\n",
              "      --disabled-fill-color: #666;\n",
              "  }\n",
              "\n",
              "  .colab-df-quickchart {\n",
              "    background-color: var(--bg-color);\n",
              "    border: none;\n",
              "    border-radius: 50%;\n",
              "    cursor: pointer;\n",
              "    display: none;\n",
              "    fill: var(--fill-color);\n",
              "    height: 32px;\n",
              "    padding: 0;\n",
              "    width: 32px;\n",
              "  }\n",
              "\n",
              "  .colab-df-quickchart:hover {\n",
              "    background-color: var(--hover-bg-color);\n",
              "    box-shadow: 0 1px 2px rgba(60, 64, 67, 0.3), 0 1px 3px 1px rgba(60, 64, 67, 0.15);\n",
              "    fill: var(--button-hover-fill-color);\n",
              "  }\n",
              "\n",
              "  .colab-df-quickchart-complete:disabled,\n",
              "  .colab-df-quickchart-complete:disabled:hover {\n",
              "    background-color: var(--disabled-bg-color);\n",
              "    fill: var(--disabled-fill-color);\n",
              "    box-shadow: none;\n",
              "  }\n",
              "\n",
              "  .colab-df-spinner {\n",
              "    border: 2px solid var(--fill-color);\n",
              "    border-color: transparent;\n",
              "    border-bottom-color: var(--fill-color);\n",
              "    animation:\n",
              "      spin 1s steps(1) infinite;\n",
              "  }\n",
              "\n",
              "  @keyframes spin {\n",
              "    0% {\n",
              "      border-color: transparent;\n",
              "      border-bottom-color: var(--fill-color);\n",
              "      border-left-color: var(--fill-color);\n",
              "    }\n",
              "    20% {\n",
              "      border-color: transparent;\n",
              "      border-left-color: var(--fill-color);\n",
              "      border-top-color: var(--fill-color);\n",
              "    }\n",
              "    30% {\n",
              "      border-color: transparent;\n",
              "      border-left-color: var(--fill-color);\n",
              "      border-top-color: var(--fill-color);\n",
              "      border-right-color: var(--fill-color);\n",
              "    }\n",
              "    40% {\n",
              "      border-color: transparent;\n",
              "      border-right-color: var(--fill-color);\n",
              "      border-top-color: var(--fill-color);\n",
              "    }\n",
              "    60% {\n",
              "      border-color: transparent;\n",
              "      border-right-color: var(--fill-color);\n",
              "    }\n",
              "    80% {\n",
              "      border-color: transparent;\n",
              "      border-right-color: var(--fill-color);\n",
              "      border-bottom-color: var(--fill-color);\n",
              "    }\n",
              "    90% {\n",
              "      border-color: transparent;\n",
              "      border-bottom-color: var(--fill-color);\n",
              "    }\n",
              "  }\n",
              "</style>\n",
              "\n",
              "      <script>\n",
              "        async function quickchart(key) {\n",
              "          const quickchartButtonEl =\n",
              "            document.querySelector('#' + key + ' button');\n",
              "          quickchartButtonEl.disabled = true;  // To prevent multiple clicks.\n",
              "          quickchartButtonEl.classList.add('colab-df-spinner');\n",
              "          try {\n",
              "            const charts = await google.colab.kernel.invokeFunction(\n",
              "                'suggestCharts', [key], {});\n",
              "          } catch (error) {\n",
              "            console.error('Error during call to suggestCharts:', error);\n",
              "          }\n",
              "          quickchartButtonEl.classList.remove('colab-df-spinner');\n",
              "          quickchartButtonEl.classList.add('colab-df-quickchart-complete');\n",
              "        }\n",
              "        (() => {\n",
              "          let quickchartButtonEl =\n",
              "            document.querySelector('#df-3c5a7465-c275-4ab2-a53d-4d5677eb576c button');\n",
              "          quickchartButtonEl.style.display =\n",
              "            google.colab.kernel.accessAllowed ? 'block' : 'none';\n",
              "        })();\n",
              "      </script>\n",
              "    </div>\n",
              "\n",
              "    </div>\n",
              "  </div>\n"
            ],
            "application/vnd.google.colaboratory.intrinsic+json": {
              "type": "dataframe",
              "summary": "{\n  \"name\": \"df\",\n  \"rows\": 65,\n  \"fields\": [\n    {\n      \"column\": \"Car_Brand\",\n      \"properties\": {\n        \"dtype\": \"category\",\n        \"num_unique_values\": 11,\n        \"samples\": [\n          \"Nissan\",\n          \"Toyota\",\n          \"Kia\"\n        ],\n        \"semantic_type\": \"\",\n        \"description\": \"\"\n      }\n    },\n    {\n      \"column\": \"Model\",\n      \"properties\": {\n        \"dtype\": \"category\",\n        \"num_unique_values\": 11,\n        \"samples\": [\n          0,\n          \"Corolla\",\n          \"C-Class\"\n        ],\n        \"semantic_type\": \"\",\n        \"description\": \"\"\n      }\n    },\n    {\n      \"column\": \"Year\",\n      \"properties\": {\n        \"dtype\": \"number\",\n        \"std\": 540.1371095521808,\n        \"min\": 0.0,\n        \"max\": 2023.0,\n        \"num_unique_values\": 22,\n        \"samples\": [\n          2009.0,\n          2007.0,\n          2012.0\n        ],\n        \"semantic_type\": \"\",\n        \"description\": \"\"\n      }\n    },\n    {\n      \"column\": \"Price\",\n      \"properties\": {\n        \"dtype\": \"number\",\n        \"std\": 14168.70506767332,\n        \"min\": 0.0,\n        \"max\": 48503.0,\n        \"num_unique_values\": 61,\n        \"samples\": [\n          0.0,\n          28278.0,\n          9766.0\n        ],\n        \"semantic_type\": \"\",\n        \"description\": \"\"\n      }\n    }\n  ]\n}"
            }
          },
          "metadata": {},
          "execution_count": 60
        }
      ]
    },
    {
      "cell_type": "code",
      "source": [
        "df_fill = df.copy()\n",
        "df_fill[\"Car_Brand\"] = df_fillna[\"Car_Brand\"].fillna(\"Unknown\")\n",
        "df_fill[\"Model\"] = df_fillna[\"Model\"].fillna(\"Unknown\")\n",
        "df_fill[\"Year\"] = df_fillna[\"Year\"].fillna(df_fill[\"Year\"].median())\n",
        "df_fill[\"Price\"] = df_fillna[\"Price\"].fillna(df_fill[\"Price\"].mean())"
      ],
      "metadata": {
        "id": "nJiBqNJjbk9x"
      },
      "execution_count": 61,
      "outputs": []
    },
    {
      "cell_type": "code",
      "source": [
        "print(df)"
      ],
      "metadata": {
        "id": "2D06Tma4b4Qa",
        "outputId": "125532fe-c8c5-4cd3-fab9-fa9305b543eb",
        "colab": {
          "base_uri": "https://localhost:8080/"
        }
      },
      "execution_count": 44,
      "outputs": [
        {
          "output_type": "stream",
          "name": "stdout",
          "text": [
            "    Car_Brand     Model    Year    Price\n",
            "0      Toyota   Corolla  2009.0      0.0\n",
            "1       Honda     Civic  2004.0  34542.0\n",
            "2        Ford     Focus  2004.0   6546.0\n",
            "3         BMW  3 Series  2008.0      0.0\n",
            "4   Chevrolet     Cruze  2015.0      0.0\n",
            "..        ...       ...     ...      ...\n",
            "60     Toyota   Corolla  2016.0  27431.0\n",
            "61      Honda     Civic  2004.0  31648.0\n",
            "62       Ford         0  2014.0  34108.0\n",
            "63          0  3 Series     0.0  10646.0\n",
            "64  Chevrolet     Cruze  2023.0  26550.0\n",
            "\n",
            "[65 rows x 4 columns]\n"
          ]
        }
      ]
    },
    {
      "cell_type": "code",
      "source": [
        "df.info()"
      ],
      "metadata": {
        "id": "77_KX3SNcI8g",
        "outputId": "7bc5c3f6-394e-4528-b9f3-91cc21fe1da6",
        "colab": {
          "base_uri": "https://localhost:8080/"
        }
      },
      "execution_count": 62,
      "outputs": [
        {
          "output_type": "stream",
          "name": "stdout",
          "text": [
            "<class 'pandas.core.frame.DataFrame'>\n",
            "RangeIndex: 65 entries, 0 to 64\n",
            "Data columns (total 4 columns):\n",
            " #   Column     Non-Null Count  Dtype  \n",
            "---  ------     --------------  -----  \n",
            " 0   Car_Brand  65 non-null     object \n",
            " 1   Model      65 non-null     object \n",
            " 2   Year       65 non-null     float64\n",
            " 3   Price      65 non-null     float64\n",
            "dtypes: float64(2), object(2)\n",
            "memory usage: 2.2+ KB\n"
          ]
        }
      ]
    }
  ]
}
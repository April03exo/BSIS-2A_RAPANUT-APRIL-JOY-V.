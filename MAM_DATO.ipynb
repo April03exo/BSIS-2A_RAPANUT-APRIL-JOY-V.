{
  "nbformat": 4,
  "nbformat_minor": 0,
  "metadata": {
    "colab": {
      "provenance": [],
      "authorship_tag": "ABX9TyMeaa64UvX1E+Ta4/P1barS",
      "include_colab_link": true
    },
    "kernelspec": {
      "name": "python3",
      "display_name": "Python 3"
    },
    "language_info": {
      "name": "python"
    }
  },
  "cells": [
    {
      "cell_type": "markdown",
      "metadata": {
        "id": "view-in-github",
        "colab_type": "text"
      },
      "source": [
        "<a href=\"https://colab.research.google.com/github/April03exo/BSIS-2A_RAPANUT-APRIL-JOY-V./blob/main/MAM_DATO.ipynb\" target=\"_parent\"><img src=\"https://colab.research.google.com/assets/colab-badge.svg\" alt=\"Open In Colab\"/></a>"
      ]
    },
    {
      "cell_type": "code",
      "execution_count": 79,
      "metadata": {
        "id": "0mJv0XaMutEg"
      },
      "outputs": [],
      "source": [
        "import pandas as pd"
      ]
    },
    {
      "cell_type": "code",
      "source": [
        "df = pd.read_csv('https://raw.githubusercontent.com/April03exo/BSIS-2A_RAPANUT-APRIL-JOY-V./refs/heads/main/cars_with_na.csv')"
      ],
      "metadata": {
        "id": "B2xP60OWu3OY"
      },
      "execution_count": 80,
      "outputs": []
    },
    {
      "cell_type": "code",
      "source": [
        "print(df)"
      ],
      "metadata": {
        "colab": {
          "base_uri": "https://localhost:8080/"
        },
        "id": "8X1JN7aTxlGn",
        "outputId": "8b39d0d6-e661-41ed-ae39-fc3057ce3d95"
      },
      "execution_count": 81,
      "outputs": [
        {
          "output_type": "stream",
          "name": "stdout",
          "text": [
            "    Car_Brand     Model    Year    Price\n",
            "0      Toyota   Corolla  2009.0      NaN\n",
            "1       Honda     Civic  2004.0  34542.0\n",
            "2        Ford     Focus  2004.0   6546.0\n",
            "3         BMW  3 Series  2008.0      NaN\n",
            "4   Chevrolet     Cruze  2015.0      NaN\n",
            "..        ...       ...     ...      ...\n",
            "60     Toyota   Corolla  2016.0  27431.0\n",
            "61      Honda     Civic  2004.0  31648.0\n",
            "62       Ford       NaN  2014.0  34108.0\n",
            "63        NaN  3 Series     NaN  10646.0\n",
            "64  Chevrolet     Cruze  2023.0  26550.0\n",
            "\n",
            "[65 rows x 4 columns]\n"
          ]
        }
      ]
    },
    {
      "cell_type": "code",
      "source": [
        "print(df[df.isnull().any(axis=1)])"
      ],
      "metadata": {
        "colab": {
          "base_uri": "https://localhost:8080/"
        },
        "id": "E77hVxk01yIM",
        "outputId": "7432c4b1-9aa6-4604-bc60-754f83306cf9"
      },
      "execution_count": 82,
      "outputs": [
        {
          "output_type": "stream",
          "name": "stdout",
          "text": [
            "    Car_Brand     Model    Year    Price\n",
            "0      Toyota   Corolla  2009.0      NaN\n",
            "3         BMW  3 Series  2008.0      NaN\n",
            "4   Chevrolet     Cruze  2015.0      NaN\n",
            "5      Nissan       NaN  2010.0  44318.0\n",
            "6     Hyundai   Elantra     NaN  37730.0\n",
            "7         NaN       Rio  2005.0  28278.0\n",
            "8         NaN      Golf  2015.0  45228.0\n",
            "9    Mercedes   C-Class  2002.0      NaN\n",
            "14  Chevrolet       NaN  2020.0   5998.0\n",
            "17        Kia       NaN  2015.0  28006.0\n",
            "22       Ford       NaN  2020.0  30625.0\n",
            "28        NaN      Golf  2017.0  41607.0\n",
            "35     Nissan    Altima     NaN  14465.0\n",
            "42        NaN     Focus  2018.0  10070.0\n",
            "49   Mercedes   C-Class  2005.0      NaN\n",
            "50     Toyota   Corolla     NaN   9766.0\n",
            "57        Kia       Rio     NaN   8270.0\n",
            "62       Ford       NaN  2014.0  34108.0\n",
            "63        NaN  3 Series     NaN  10646.0\n"
          ]
        }
      ]
    },
    {
      "cell_type": "code",
      "source": [
        "print(df.isnull().sum())"
      ],
      "metadata": {
        "id": "9W5WCjF3aXXE",
        "outputId": "a0357e8e-8e9b-40b4-a778-cbb0d73ba08f",
        "colab": {
          "base_uri": "https://localhost:8080/"
        }
      },
      "execution_count": 83,
      "outputs": [
        {
          "output_type": "stream",
          "name": "stdout",
          "text": [
            "Car_Brand    5\n",
            "Model        5\n",
            "Year         5\n",
            "Price        5\n",
            "dtype: int64\n"
          ]
        }
      ]
    },
    {
      "cell_type": "code",
      "source": [
        "df_drop_rows = df.dropna()\n",
        "print(df_drop_rows)"
      ],
      "metadata": {
        "colab": {
          "base_uri": "https://localhost:8080/"
        },
        "id": "0BXjEZzD0XiK",
        "outputId": "dfebfef6-694d-4fa3-8a9a-1c2eb05e93af"
      },
      "execution_count": 84,
      "outputs": [
        {
          "output_type": "stream",
          "name": "stdout",
          "text": [
            "     Car_Brand     Model    Year    Price\n",
            "1        Honda     Civic  2004.0  34542.0\n",
            "2         Ford     Focus  2004.0   6546.0\n",
            "10      Toyota   Corolla  2012.0  44612.0\n",
            "11       Honda     Civic  2011.0  40605.0\n",
            "12        Ford     Focus  2003.0  46197.0\n",
            "13         BMW  3 Series  2003.0  26814.0\n",
            "15      Nissan    Altima  2015.0  22651.0\n",
            "16     Hyundai   Elantra  2019.0  33010.0\n",
            "18  Volkswagen      Golf  2009.0  18318.0\n",
            "19    Mercedes   C-Class  2009.0   7170.0\n",
            "20      Toyota   Corolla  2007.0  38241.0\n",
            "21       Honda     Civic  2017.0  13245.0\n",
            "23         BMW  3 Series  2006.0  40146.0\n",
            "24   Chevrolet     Cruze  2014.0  43115.0\n",
            "25      Nissan    Altima  2006.0  18953.0\n",
            "26     Hyundai   Elantra  2012.0  22948.0\n",
            "27         Kia       Rio  2011.0  10722.0\n",
            "29    Mercedes   C-Class  2009.0  38675.0\n",
            "30      Toyota   Corolla  2003.0  13146.0\n",
            "31       Honda     Civic  2003.0  17790.0\n",
            "32        Ford     Focus  2007.0  40531.0\n",
            "33         BMW  3 Series  2018.0  12227.0\n",
            "34   Chevrolet     Cruze  2009.0  20499.0\n",
            "36     Hyundai   Elantra  2017.0  25118.0\n",
            "37         Kia       Rio  2008.0   9777.0\n",
            "38  Volkswagen      Golf  2001.0  25704.0\n",
            "39    Mercedes   C-Class  2005.0  48503.0\n",
            "40      Toyota   Corolla  2014.0  45380.0\n",
            "41       Honda     Civic  2002.0  25836.0\n",
            "43         BMW  3 Series  2023.0  24747.0\n",
            "44   Chevrolet     Cruze  2015.0  26215.0\n",
            "45      Nissan    Altima  2005.0  16630.0\n",
            "46     Hyundai   Elantra  2015.0  45101.0\n",
            "47         Kia       Rio  2020.0  30681.0\n",
            "48  Volkswagen      Golf  2022.0   8368.0\n",
            "51       Honda     Civic  2020.0  39468.0\n",
            "52        Ford     Focus  2022.0  19271.0\n",
            "53         BMW  3 Series  2014.0  18209.0\n",
            "54   Chevrolet     Cruze  2010.0  12592.0\n",
            "55      Nissan    Altima  2005.0  15384.0\n",
            "56     Hyundai   Elantra  2001.0  16770.0\n",
            "58  Volkswagen      Golf  2012.0  39828.0\n",
            "59    Mercedes   C-Class  2016.0   6908.0\n",
            "60      Toyota   Corolla  2016.0  27431.0\n",
            "61       Honda     Civic  2004.0  31648.0\n",
            "64   Chevrolet     Cruze  2023.0  26550.0\n"
          ]
        }
      ]
    },
    {
      "cell_type": "code",
      "source": [
        "print(df.isnull().sum())"
      ],
      "metadata": {
        "colab": {
          "base_uri": "https://localhost:8080/"
        },
        "id": "u4dOGvelxyfo",
        "outputId": "e21012f8-7d51-40a8-8a30-6fae7303348f"
      },
      "execution_count": 85,
      "outputs": [
        {
          "output_type": "stream",
          "name": "stdout",
          "text": [
            "Car_Brand    5\n",
            "Model        5\n",
            "Year         5\n",
            "Price        5\n",
            "dtype: int64\n"
          ]
        }
      ]
    },
    {
      "cell_type": "code",
      "source": [
        "df.fillna(0, inplace= True)"
      ],
      "metadata": {
        "id": "f8lfXcqHbARW"
      },
      "execution_count": 86,
      "outputs": []
    },
    {
      "cell_type": "code",
      "source": [
        "df.fillna(0)"
      ],
      "metadata": {
        "id": "jF4c9nzRbM3c",
        "outputId": "39b59b6f-bf10-4948-8708-aae8d24a61d4",
        "colab": {
          "base_uri": "https://localhost:8080/",
          "height": 478
        }
      },
      "execution_count": 87,
      "outputs": [
        {
          "output_type": "execute_result",
          "data": {
            "text/plain": [
              "    Car_Brand     Model    Year    Price\n",
              "0      Toyota   Corolla  2009.0      0.0\n",
              "1       Honda     Civic  2004.0  34542.0\n",
              "2        Ford     Focus  2004.0   6546.0\n",
              "3         BMW  3 Series  2008.0      0.0\n",
              "4   Chevrolet     Cruze  2015.0      0.0\n",
              "..        ...       ...     ...      ...\n",
              "60     Toyota   Corolla  2016.0  27431.0\n",
              "61      Honda     Civic  2004.0  31648.0\n",
              "62       Ford         0  2014.0  34108.0\n",
              "63          0  3 Series     0.0  10646.0\n",
              "64  Chevrolet     Cruze  2023.0  26550.0\n",
              "\n",
              "[65 rows x 4 columns]"
            ],
            "text/html": [
              "\n",
              "  <div id=\"df-cbfb5142-27aa-44ee-8b80-e0b11f949623\" class=\"colab-df-container\">\n",
              "    <div>\n",
              "<style scoped>\n",
              "    .dataframe tbody tr th:only-of-type {\n",
              "        vertical-align: middle;\n",
              "    }\n",
              "\n",
              "    .dataframe tbody tr th {\n",
              "        vertical-align: top;\n",
              "    }\n",
              "\n",
              "    .dataframe thead th {\n",
              "        text-align: right;\n",
              "    }\n",
              "</style>\n",
              "<table border=\"1\" class=\"dataframe\">\n",
              "  <thead>\n",
              "    <tr style=\"text-align: right;\">\n",
              "      <th></th>\n",
              "      <th>Car_Brand</th>\n",
              "      <th>Model</th>\n",
              "      <th>Year</th>\n",
              "      <th>Price</th>\n",
              "    </tr>\n",
              "  </thead>\n",
              "  <tbody>\n",
              "    <tr>\n",
              "      <th>0</th>\n",
              "      <td>Toyota</td>\n",
              "      <td>Corolla</td>\n",
              "      <td>2009.0</td>\n",
              "      <td>0.0</td>\n",
              "    </tr>\n",
              "    <tr>\n",
              "      <th>1</th>\n",
              "      <td>Honda</td>\n",
              "      <td>Civic</td>\n",
              "      <td>2004.0</td>\n",
              "      <td>34542.0</td>\n",
              "    </tr>\n",
              "    <tr>\n",
              "      <th>2</th>\n",
              "      <td>Ford</td>\n",
              "      <td>Focus</td>\n",
              "      <td>2004.0</td>\n",
              "      <td>6546.0</td>\n",
              "    </tr>\n",
              "    <tr>\n",
              "      <th>3</th>\n",
              "      <td>BMW</td>\n",
              "      <td>3 Series</td>\n",
              "      <td>2008.0</td>\n",
              "      <td>0.0</td>\n",
              "    </tr>\n",
              "    <tr>\n",
              "      <th>4</th>\n",
              "      <td>Chevrolet</td>\n",
              "      <td>Cruze</td>\n",
              "      <td>2015.0</td>\n",
              "      <td>0.0</td>\n",
              "    </tr>\n",
              "    <tr>\n",
              "      <th>...</th>\n",
              "      <td>...</td>\n",
              "      <td>...</td>\n",
              "      <td>...</td>\n",
              "      <td>...</td>\n",
              "    </tr>\n",
              "    <tr>\n",
              "      <th>60</th>\n",
              "      <td>Toyota</td>\n",
              "      <td>Corolla</td>\n",
              "      <td>2016.0</td>\n",
              "      <td>27431.0</td>\n",
              "    </tr>\n",
              "    <tr>\n",
              "      <th>61</th>\n",
              "      <td>Honda</td>\n",
              "      <td>Civic</td>\n",
              "      <td>2004.0</td>\n",
              "      <td>31648.0</td>\n",
              "    </tr>\n",
              "    <tr>\n",
              "      <th>62</th>\n",
              "      <td>Ford</td>\n",
              "      <td>0</td>\n",
              "      <td>2014.0</td>\n",
              "      <td>34108.0</td>\n",
              "    </tr>\n",
              "    <tr>\n",
              "      <th>63</th>\n",
              "      <td>0</td>\n",
              "      <td>3 Series</td>\n",
              "      <td>0.0</td>\n",
              "      <td>10646.0</td>\n",
              "    </tr>\n",
              "    <tr>\n",
              "      <th>64</th>\n",
              "      <td>Chevrolet</td>\n",
              "      <td>Cruze</td>\n",
              "      <td>2023.0</td>\n",
              "      <td>26550.0</td>\n",
              "    </tr>\n",
              "  </tbody>\n",
              "</table>\n",
              "<p>65 rows × 4 columns</p>\n",
              "</div>\n",
              "    <div class=\"colab-df-buttons\">\n",
              "\n",
              "  <div class=\"colab-df-container\">\n",
              "    <button class=\"colab-df-convert\" onclick=\"convertToInteractive('df-cbfb5142-27aa-44ee-8b80-e0b11f949623')\"\n",
              "            title=\"Convert this dataframe to an interactive table.\"\n",
              "            style=\"display:none;\">\n",
              "\n",
              "  <svg xmlns=\"http://www.w3.org/2000/svg\" height=\"24px\" viewBox=\"0 -960 960 960\">\n",
              "    <path d=\"M120-120v-720h720v720H120Zm60-500h600v-160H180v160Zm220 220h160v-160H400v160Zm0 220h160v-160H400v160ZM180-400h160v-160H180v160Zm440 0h160v-160H620v160ZM180-180h160v-160H180v160Zm440 0h160v-160H620v160Z\"/>\n",
              "  </svg>\n",
              "    </button>\n",
              "\n",
              "  <style>\n",
              "    .colab-df-container {\n",
              "      display:flex;\n",
              "      gap: 12px;\n",
              "    }\n",
              "\n",
              "    .colab-df-convert {\n",
              "      background-color: #E8F0FE;\n",
              "      border: none;\n",
              "      border-radius: 50%;\n",
              "      cursor: pointer;\n",
              "      display: none;\n",
              "      fill: #1967D2;\n",
              "      height: 32px;\n",
              "      padding: 0 0 0 0;\n",
              "      width: 32px;\n",
              "    }\n",
              "\n",
              "    .colab-df-convert:hover {\n",
              "      background-color: #E2EBFA;\n",
              "      box-shadow: 0px 1px 2px rgba(60, 64, 67, 0.3), 0px 1px 3px 1px rgba(60, 64, 67, 0.15);\n",
              "      fill: #174EA6;\n",
              "    }\n",
              "\n",
              "    .colab-df-buttons div {\n",
              "      margin-bottom: 4px;\n",
              "    }\n",
              "\n",
              "    [theme=dark] .colab-df-convert {\n",
              "      background-color: #3B4455;\n",
              "      fill: #D2E3FC;\n",
              "    }\n",
              "\n",
              "    [theme=dark] .colab-df-convert:hover {\n",
              "      background-color: #434B5C;\n",
              "      box-shadow: 0px 1px 3px 1px rgba(0, 0, 0, 0.15);\n",
              "      filter: drop-shadow(0px 1px 2px rgba(0, 0, 0, 0.3));\n",
              "      fill: #FFFFFF;\n",
              "    }\n",
              "  </style>\n",
              "\n",
              "    <script>\n",
              "      const buttonEl =\n",
              "        document.querySelector('#df-cbfb5142-27aa-44ee-8b80-e0b11f949623 button.colab-df-convert');\n",
              "      buttonEl.style.display =\n",
              "        google.colab.kernel.accessAllowed ? 'block' : 'none';\n",
              "\n",
              "      async function convertToInteractive(key) {\n",
              "        const element = document.querySelector('#df-cbfb5142-27aa-44ee-8b80-e0b11f949623');\n",
              "        const dataTable =\n",
              "          await google.colab.kernel.invokeFunction('convertToInteractive',\n",
              "                                                    [key], {});\n",
              "        if (!dataTable) return;\n",
              "\n",
              "        const docLinkHtml = 'Like what you see? Visit the ' +\n",
              "          '<a target=\"_blank\" href=https://colab.research.google.com/notebooks/data_table.ipynb>data table notebook</a>'\n",
              "          + ' to learn more about interactive tables.';\n",
              "        element.innerHTML = '';\n",
              "        dataTable['output_type'] = 'display_data';\n",
              "        await google.colab.output.renderOutput(dataTable, element);\n",
              "        const docLink = document.createElement('div');\n",
              "        docLink.innerHTML = docLinkHtml;\n",
              "        element.appendChild(docLink);\n",
              "      }\n",
              "    </script>\n",
              "  </div>\n",
              "\n",
              "\n",
              "    <div id=\"df-29ad8a5c-e96b-4b63-b407-7206446f6d0f\">\n",
              "      <button class=\"colab-df-quickchart\" onclick=\"quickchart('df-29ad8a5c-e96b-4b63-b407-7206446f6d0f')\"\n",
              "                title=\"Suggest charts\"\n",
              "                style=\"display:none;\">\n",
              "\n",
              "<svg xmlns=\"http://www.w3.org/2000/svg\" height=\"24px\"viewBox=\"0 0 24 24\"\n",
              "     width=\"24px\">\n",
              "    <g>\n",
              "        <path d=\"M19 3H5c-1.1 0-2 .9-2 2v14c0 1.1.9 2 2 2h14c1.1 0 2-.9 2-2V5c0-1.1-.9-2-2-2zM9 17H7v-7h2v7zm4 0h-2V7h2v10zm4 0h-2v-4h2v4z\"/>\n",
              "    </g>\n",
              "</svg>\n",
              "      </button>\n",
              "\n",
              "<style>\n",
              "  .colab-df-quickchart {\n",
              "      --bg-color: #E8F0FE;\n",
              "      --fill-color: #1967D2;\n",
              "      --hover-bg-color: #E2EBFA;\n",
              "      --hover-fill-color: #174EA6;\n",
              "      --disabled-fill-color: #AAA;\n",
              "      --disabled-bg-color: #DDD;\n",
              "  }\n",
              "\n",
              "  [theme=dark] .colab-df-quickchart {\n",
              "      --bg-color: #3B4455;\n",
              "      --fill-color: #D2E3FC;\n",
              "      --hover-bg-color: #434B5C;\n",
              "      --hover-fill-color: #FFFFFF;\n",
              "      --disabled-bg-color: #3B4455;\n",
              "      --disabled-fill-color: #666;\n",
              "  }\n",
              "\n",
              "  .colab-df-quickchart {\n",
              "    background-color: var(--bg-color);\n",
              "    border: none;\n",
              "    border-radius: 50%;\n",
              "    cursor: pointer;\n",
              "    display: none;\n",
              "    fill: var(--fill-color);\n",
              "    height: 32px;\n",
              "    padding: 0;\n",
              "    width: 32px;\n",
              "  }\n",
              "\n",
              "  .colab-df-quickchart:hover {\n",
              "    background-color: var(--hover-bg-color);\n",
              "    box-shadow: 0 1px 2px rgba(60, 64, 67, 0.3), 0 1px 3px 1px rgba(60, 64, 67, 0.15);\n",
              "    fill: var(--button-hover-fill-color);\n",
              "  }\n",
              "\n",
              "  .colab-df-quickchart-complete:disabled,\n",
              "  .colab-df-quickchart-complete:disabled:hover {\n",
              "    background-color: var(--disabled-bg-color);\n",
              "    fill: var(--disabled-fill-color);\n",
              "    box-shadow: none;\n",
              "  }\n",
              "\n",
              "  .colab-df-spinner {\n",
              "    border: 2px solid var(--fill-color);\n",
              "    border-color: transparent;\n",
              "    border-bottom-color: var(--fill-color);\n",
              "    animation:\n",
              "      spin 1s steps(1) infinite;\n",
              "  }\n",
              "\n",
              "  @keyframes spin {\n",
              "    0% {\n",
              "      border-color: transparent;\n",
              "      border-bottom-color: var(--fill-color);\n",
              "      border-left-color: var(--fill-color);\n",
              "    }\n",
              "    20% {\n",
              "      border-color: transparent;\n",
              "      border-left-color: var(--fill-color);\n",
              "      border-top-color: var(--fill-color);\n",
              "    }\n",
              "    30% {\n",
              "      border-color: transparent;\n",
              "      border-left-color: var(--fill-color);\n",
              "      border-top-color: var(--fill-color);\n",
              "      border-right-color: var(--fill-color);\n",
              "    }\n",
              "    40% {\n",
              "      border-color: transparent;\n",
              "      border-right-color: var(--fill-color);\n",
              "      border-top-color: var(--fill-color);\n",
              "    }\n",
              "    60% {\n",
              "      border-color: transparent;\n",
              "      border-right-color: var(--fill-color);\n",
              "    }\n",
              "    80% {\n",
              "      border-color: transparent;\n",
              "      border-right-color: var(--fill-color);\n",
              "      border-bottom-color: var(--fill-color);\n",
              "    }\n",
              "    90% {\n",
              "      border-color: transparent;\n",
              "      border-bottom-color: var(--fill-color);\n",
              "    }\n",
              "  }\n",
              "</style>\n",
              "\n",
              "      <script>\n",
              "        async function quickchart(key) {\n",
              "          const quickchartButtonEl =\n",
              "            document.querySelector('#' + key + ' button');\n",
              "          quickchartButtonEl.disabled = true;  // To prevent multiple clicks.\n",
              "          quickchartButtonEl.classList.add('colab-df-spinner');\n",
              "          try {\n",
              "            const charts = await google.colab.kernel.invokeFunction(\n",
              "                'suggestCharts', [key], {});\n",
              "          } catch (error) {\n",
              "            console.error('Error during call to suggestCharts:', error);\n",
              "          }\n",
              "          quickchartButtonEl.classList.remove('colab-df-spinner');\n",
              "          quickchartButtonEl.classList.add('colab-df-quickchart-complete');\n",
              "        }\n",
              "        (() => {\n",
              "          let quickchartButtonEl =\n",
              "            document.querySelector('#df-29ad8a5c-e96b-4b63-b407-7206446f6d0f button');\n",
              "          quickchartButtonEl.style.display =\n",
              "            google.colab.kernel.accessAllowed ? 'block' : 'none';\n",
              "        })();\n",
              "      </script>\n",
              "    </div>\n",
              "\n",
              "    </div>\n",
              "  </div>\n"
            ],
            "application/vnd.google.colaboratory.intrinsic+json": {
              "type": "dataframe",
              "summary": "{\n  \"name\": \"df\",\n  \"rows\": 65,\n  \"fields\": [\n    {\n      \"column\": \"Car_Brand\",\n      \"properties\": {\n        \"dtype\": \"category\",\n        \"num_unique_values\": 11,\n        \"samples\": [\n          \"Nissan\",\n          \"Toyota\",\n          \"Kia\"\n        ],\n        \"semantic_type\": \"\",\n        \"description\": \"\"\n      }\n    },\n    {\n      \"column\": \"Model\",\n      \"properties\": {\n        \"dtype\": \"category\",\n        \"num_unique_values\": 11,\n        \"samples\": [\n          0,\n          \"Corolla\",\n          \"C-Class\"\n        ],\n        \"semantic_type\": \"\",\n        \"description\": \"\"\n      }\n    },\n    {\n      \"column\": \"Year\",\n      \"properties\": {\n        \"dtype\": \"number\",\n        \"std\": 540.1371095521808,\n        \"min\": 0.0,\n        \"max\": 2023.0,\n        \"num_unique_values\": 22,\n        \"samples\": [\n          2009.0,\n          2007.0,\n          2012.0\n        ],\n        \"semantic_type\": \"\",\n        \"description\": \"\"\n      }\n    },\n    {\n      \"column\": \"Price\",\n      \"properties\": {\n        \"dtype\": \"number\",\n        \"std\": 14168.70506767332,\n        \"min\": 0.0,\n        \"max\": 48503.0,\n        \"num_unique_values\": 61,\n        \"samples\": [\n          0.0,\n          28278.0,\n          9766.0\n        ],\n        \"semantic_type\": \"\",\n        \"description\": \"\"\n      }\n    }\n  ]\n}"
            }
          },
          "metadata": {},
          "execution_count": 87
        }
      ]
    },
    {
      "cell_type": "code",
      "source": [
        "print(df)"
      ],
      "metadata": {
        "id": "2D06Tma4b4Qa",
        "outputId": "e2132f9b-f5ff-4603-ad83-62881643ed2e",
        "colab": {
          "base_uri": "https://localhost:8080/"
        }
      },
      "execution_count": 88,
      "outputs": [
        {
          "output_type": "stream",
          "name": "stdout",
          "text": [
            "    Car_Brand     Model    Year    Price\n",
            "0      Toyota   Corolla  2009.0      0.0\n",
            "1       Honda     Civic  2004.0  34542.0\n",
            "2        Ford     Focus  2004.0   6546.0\n",
            "3         BMW  3 Series  2008.0      0.0\n",
            "4   Chevrolet     Cruze  2015.0      0.0\n",
            "..        ...       ...     ...      ...\n",
            "60     Toyota   Corolla  2016.0  27431.0\n",
            "61      Honda     Civic  2004.0  31648.0\n",
            "62       Ford         0  2014.0  34108.0\n",
            "63          0  3 Series     0.0  10646.0\n",
            "64  Chevrolet     Cruze  2023.0  26550.0\n",
            "\n",
            "[65 rows x 4 columns]\n"
          ]
        }
      ]
    },
    {
      "cell_type": "code",
      "source": [
        "df.info()"
      ],
      "metadata": {
        "id": "77_KX3SNcI8g",
        "outputId": "cb15b7a7-be29-46c5-8d11-d1d1a83677b2",
        "colab": {
          "base_uri": "https://localhost:8080/"
        }
      },
      "execution_count": 90,
      "outputs": [
        {
          "output_type": "stream",
          "name": "stdout",
          "text": [
            "<class 'pandas.core.frame.DataFrame'>\n",
            "RangeIndex: 65 entries, 0 to 64\n",
            "Data columns (total 4 columns):\n",
            " #   Column     Non-Null Count  Dtype  \n",
            "---  ------     --------------  -----  \n",
            " 0   Car_Brand  65 non-null     object \n",
            " 1   Model      65 non-null     object \n",
            " 2   Year       65 non-null     float64\n",
            " 3   Price      65 non-null     float64\n",
            "dtypes: float64(2), object(2)\n",
            "memory usage: 2.2+ KB\n"
          ]
        }
      ]
    }
  ]
}
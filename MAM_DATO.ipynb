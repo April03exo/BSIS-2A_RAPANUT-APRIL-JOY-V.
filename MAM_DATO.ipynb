{
  "nbformat": 4,
  "nbformat_minor": 0,
  "metadata": {
    "colab": {
      "provenance": [],
      "authorship_tag": "ABX9TyPZe+IfU6AVbNYVPZw1F366",
      "include_colab_link": true
    },
    "kernelspec": {
      "name": "python3",
      "display_name": "Python 3"
    },
    "language_info": {
      "name": "python"
    }
  },
  "cells": [
    {
      "cell_type": "markdown",
      "metadata": {
        "id": "view-in-github",
        "colab_type": "text"
      },
      "source": [
        "<a href=\"https://colab.research.google.com/github/April03exo/BSIS-2A_RAPANUT-APRIL-JOY-V./blob/main/MAM_DATO.ipynb\" target=\"_parent\"><img src=\"https://colab.research.google.com/assets/colab-badge.svg\" alt=\"Open In Colab\"/></a>"
      ]
    },
    {
      "cell_type": "code",
      "execution_count": null,
      "metadata": {
        "id": "0mJv0XaMutEg"
      },
      "outputs": [],
      "source": [
        "import pandas as pd"
      ]
    },
    {
      "cell_type": "code",
      "source": [
        "df = pd.read_csv('https://raw.githubusercontent.com/April03exo/BSIS-2A_RAPANUT-APRIL-JOY-V./refs/heads/main/cars_with_na.csv')"
      ],
      "metadata": {
        "id": "B2xP60OWu3OY"
      },
      "execution_count": null,
      "outputs": []
    },
    {
      "cell_type": "code",
      "source": [
        "print(df)"
      ],
      "metadata": {
        "colab": {
          "base_uri": "https://localhost:8080/"
        },
        "id": "8X1JN7aTxlGn",
        "outputId": "277dbce9-8bb2-4a5d-c1be-a2fd7d233842"
      },
      "execution_count": null,
      "outputs": [
        {
          "output_type": "stream",
          "name": "stdout",
          "text": [
            "    Car_Brand     Model    Year    Price\n",
            "0      Toyota   Corolla  2009.0      NaN\n",
            "1       Honda     Civic  2004.0  34542.0\n",
            "2        Ford     Focus  2004.0   6546.0\n",
            "3         BMW  3 Series  2008.0      NaN\n",
            "4   Chevrolet     Cruze  2015.0      NaN\n",
            "..        ...       ...     ...      ...\n",
            "60     Toyota   Corolla  2016.0  27431.0\n",
            "61      Honda     Civic  2004.0  31648.0\n",
            "62       Ford       NaN  2014.0  34108.0\n",
            "63        NaN  3 Series     NaN  10646.0\n",
            "64  Chevrolet     Cruze  2023.0  26550.0\n",
            "\n",
            "[65 rows x 4 columns]\n"
          ]
        }
      ]
    },
    {
      "cell_type": "code",
      "source": [
        "print(df)"
      ],
      "metadata": {
        "colab": {
          "base_uri": "https://localhost:8080/"
        },
        "id": "XiqC66uM0Jn4",
        "outputId": "5eff48f8-db80-48a5-e21f-278e53718b81"
      },
      "execution_count": null,
      "outputs": [
        {
          "output_type": "stream",
          "name": "stdout",
          "text": [
            "    Car_Brand     Model    Year    Price\n",
            "0      Toyota   Corolla  2009.0      NaN\n",
            "1       Honda     Civic  2004.0  34542.0\n",
            "2        Ford     Focus  2004.0   6546.0\n",
            "3         BMW  3 Series  2008.0      NaN\n",
            "4   Chevrolet     Cruze  2015.0      NaN\n",
            "..        ...       ...     ...      ...\n",
            "60     Toyota   Corolla  2016.0  27431.0\n",
            "61      Honda     Civic  2004.0  31648.0\n",
            "62       Ford       NaN  2014.0  34108.0\n",
            "63        NaN  3 Series     NaN  10646.0\n",
            "64  Chevrolet     Cruze  2023.0  26550.0\n",
            "\n",
            "[65 rows x 4 columns]\n"
          ]
        }
      ]
    },
    {
      "cell_type": "code",
      "source": [
        "df_drop_rows = df.dropna()\n",
        "print(df_drop_rows)"
      ],
      "metadata": {
        "colab": {
          "base_uri": "https://localhost:8080/"
        },
        "id": "0BXjEZzD0XiK",
        "outputId": "b7e0979c-f2ff-4e83-e239-402c203e4467"
      },
      "execution_count": null,
      "outputs": [
        {
          "output_type": "stream",
          "name": "stdout",
          "text": [
            "     Car_Brand     Model    Year    Price\n",
            "1        Honda     Civic  2004.0  34542.0\n",
            "2         Ford     Focus  2004.0   6546.0\n",
            "10      Toyota   Corolla  2012.0  44612.0\n",
            "11       Honda     Civic  2011.0  40605.0\n",
            "12        Ford     Focus  2003.0  46197.0\n",
            "13         BMW  3 Series  2003.0  26814.0\n",
            "15      Nissan    Altima  2015.0  22651.0\n",
            "16     Hyundai   Elantra  2019.0  33010.0\n",
            "18  Volkswagen      Golf  2009.0  18318.0\n",
            "19    Mercedes   C-Class  2009.0   7170.0\n",
            "20      Toyota   Corolla  2007.0  38241.0\n",
            "21       Honda     Civic  2017.0  13245.0\n",
            "23         BMW  3 Series  2006.0  40146.0\n",
            "24   Chevrolet     Cruze  2014.0  43115.0\n",
            "25      Nissan    Altima  2006.0  18953.0\n",
            "26     Hyundai   Elantra  2012.0  22948.0\n",
            "27         Kia       Rio  2011.0  10722.0\n",
            "29    Mercedes   C-Class  2009.0  38675.0\n",
            "30      Toyota   Corolla  2003.0  13146.0\n",
            "31       Honda     Civic  2003.0  17790.0\n",
            "32        Ford     Focus  2007.0  40531.0\n",
            "33         BMW  3 Series  2018.0  12227.0\n",
            "34   Chevrolet     Cruze  2009.0  20499.0\n",
            "36     Hyundai   Elantra  2017.0  25118.0\n",
            "37         Kia       Rio  2008.0   9777.0\n",
            "38  Volkswagen      Golf  2001.0  25704.0\n",
            "39    Mercedes   C-Class  2005.0  48503.0\n",
            "40      Toyota   Corolla  2014.0  45380.0\n",
            "41       Honda     Civic  2002.0  25836.0\n",
            "43         BMW  3 Series  2023.0  24747.0\n",
            "44   Chevrolet     Cruze  2015.0  26215.0\n",
            "45      Nissan    Altima  2005.0  16630.0\n",
            "46     Hyundai   Elantra  2015.0  45101.0\n",
            "47         Kia       Rio  2020.0  30681.0\n",
            "48  Volkswagen      Golf  2022.0   8368.0\n",
            "51       Honda     Civic  2020.0  39468.0\n",
            "52        Ford     Focus  2022.0  19271.0\n",
            "53         BMW  3 Series  2014.0  18209.0\n",
            "54   Chevrolet     Cruze  2010.0  12592.0\n",
            "55      Nissan    Altima  2005.0  15384.0\n",
            "56     Hyundai   Elantra  2001.0  16770.0\n",
            "58  Volkswagen      Golf  2012.0  39828.0\n",
            "59    Mercedes   C-Class  2016.0   6908.0\n",
            "60      Toyota   Corolla  2016.0  27431.0\n",
            "61       Honda     Civic  2004.0  31648.0\n",
            "64   Chevrolet     Cruze  2023.0  26550.0\n"
          ]
        }
      ]
    },
    {
      "cell_type": "code",
      "source": [
        "df_fillna = df.copy()\n",
        "df_fillna[\"Car_Brand\"] = df_fillna[\"Car_Brand\"].fillna(\"Unknown\")\n",
        "df_fillna[\"Model\"] = df_fillna[\"Model\"].fillna(\"Unknown\")\n",
        "df_fillna[\"Year\"] = df_fillna[\"Year\"].fillna(df_fill[\"Year\"].median())\n",
        "df_fillna[\"Price\"] = df_fillna[\"Price\"].fillna(df_fill[\"Price\"].mean())"
      ],
      "metadata": {
        "id": "naaa7cxG1SQp"
      },
      "execution_count": null,
      "outputs": []
    },
    {
      "cell_type": "code",
      "source": [
        "print(df_fillna.isnull().sum())"
      ],
      "metadata": {
        "colab": {
          "base_uri": "https://localhost:8080/"
        },
        "id": "E77hVxk01yIM",
        "outputId": "7ef55a3a-5d6b-4307-cf15-9cb935b48652"
      },
      "execution_count": null,
      "outputs": [
        {
          "output_type": "stream",
          "name": "stdout",
          "text": [
            "Car_Brand    0\n",
            "Model        0\n",
            "Year         0\n",
            "Price        0\n",
            "dtype: int64\n"
          ]
        }
      ]
    },
    {
      "cell_type": "code",
      "source": [
        "print(df.isnull().sum())\n",
        "print(df_fillna.isnull().sum())"
      ],
      "metadata": {
        "colab": {
          "base_uri": "https://localhost:8080/"
        },
        "id": "u4dOGvelxyfo",
        "outputId": "3844c0f6-8932-4042-a115-1bcfafbb52a1"
      },
      "execution_count": null,
      "outputs": [
        {
          "output_type": "stream",
          "name": "stdout",
          "text": [
            "Car_Brand    5\n",
            "Model        5\n",
            "Year         5\n",
            "Price        5\n",
            "dtype: int64\n",
            "Car_Brand    0\n",
            "Model        0\n",
            "Year         0\n",
            "Price        0\n",
            "dtype: int64\n"
          ]
        }
      ]
    }
  ]
}